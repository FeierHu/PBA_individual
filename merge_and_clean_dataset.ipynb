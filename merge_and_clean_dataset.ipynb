{
 "cells": [
  {
   "cell_type": "code",
   "execution_count": 1,
   "metadata": {
    "collapsed": true
   },
   "outputs": [],
   "source": [
    "import numpy as np\n",
    "import pandas as pd\n",
    "from pandas import Series, DataFrame, Panel\n",
    "import csv"
   ]
  },
  {
   "cell_type": "code",
   "execution_count": 2,
   "metadata": {
    "collapsed": true
   },
   "outputs": [],
   "source": [
    "df = pd.read_csv(\n",
    "    '20170602_joined_impressions.csv', sep=',', \n",
    "    names=['experiment', 'variant', 'userId', 'environmentId', 'frontPageViewId', 'contentPosition',\n",
    "           'impressionTimestamp', 'contentId', 'clickedPageViewId', 'clickTimestamp', 'IsClicked',\n",
    "           'contentPageViewId', 'maxSecondsSincePageView', 'maxDuration', 'maxScrollPosition', 'contentWordCount'],\n",
    "    usecols=['environmentId', 'frontPageViewId', 'contentPosition',\n",
    "           'impressionTimestamp', 'contentId', 'clickedPageViewId', 'clickTimestamp', 'IsClicked',\n",
    "           'contentPageViewId', 'maxSecondsSincePageView', 'maxDuration', 'maxScrollPosition', 'contentWordCount'],\n",
    "    parse_dates=['impressionTimestamp', 'clickTimestamp'])"
   ]
  },
  {
   "cell_type": "code",
   "execution_count": 3,
   "metadata": {
    "collapsed": true
   },
   "outputs": [],
   "source": [
    "content_df=pd.read_csv('201705-20170614_ap_articles.csv', sep=',')"
   ]
  },
  {
   "cell_type": "code",
   "execution_count": 4,
   "metadata": {
    "collapsed": true
   },
   "outputs": [],
   "source": [
    "content_df.columns = ['contentId','body', 'capi-id', 'categories', 'content-type',\n",
    "       'content-type-short', 'created', 'hotness', 'image-url',\n",
    "       'last-modified', 'lead', 'lifetime', 'normalized-hotness',\n",
    "       'normalized-lifetime', 'paywall-state', 'paywall-type',\n",
    "       'presentation-url', 'published', 'share-url', 'source-publication',\n",
    "       'source-system', 'status', 'tags', 'title']"
   ]
  },
  {
   "cell_type": "code",
   "execution_count": 5,
   "metadata": {
    "collapsed": true
   },
   "outputs": [],
   "source": [
    "mergedf = df.merge(content_df,on='contentId',how='left')"
   ]
  },
  {
   "cell_type": "code",
   "execution_count": 11,
   "metadata": {},
   "outputs": [
    {
     "data": {
      "text/html": [
       "<div>\n",
       "<style>\n",
       "    .dataframe thead tr:only-child th {\n",
       "        text-align: right;\n",
       "    }\n",
       "\n",
       "    .dataframe thead th {\n",
       "        text-align: left;\n",
       "    }\n",
       "\n",
       "    .dataframe tbody tr th {\n",
       "        vertical-align: top;\n",
       "    }\n",
       "</style>\n",
       "<table border=\"1\" class=\"dataframe\">\n",
       "  <thead>\n",
       "    <tr style=\"text-align: right;\">\n",
       "      <th></th>\n",
       "      <th>environmentId</th>\n",
       "      <th>frontPageViewId</th>\n",
       "      <th>contentPosition</th>\n",
       "      <th>impressionTimestamp</th>\n",
       "      <th>contentId</th>\n",
       "      <th>clickedPageViewId</th>\n",
       "      <th>clickTimestamp</th>\n",
       "      <th>IsClicked</th>\n",
       "      <th>contentPageViewId</th>\n",
       "      <th>maxSecondsSincePageView</th>\n",
       "      <th>...</th>\n",
       "      <th>paywall-state</th>\n",
       "      <th>paywall-type</th>\n",
       "      <th>presentation-url</th>\n",
       "      <th>published</th>\n",
       "      <th>share-url</th>\n",
       "      <th>source-publication</th>\n",
       "      <th>source-system</th>\n",
       "      <th>status</th>\n",
       "      <th>tags</th>\n",
       "      <th>title</th>\n",
       "    </tr>\n",
       "  </thead>\n",
       "  <tbody>\n",
       "    <tr>\n",
       "      <th>count</th>\n",
       "      <td>1</td>\n",
       "      <td>1</td>\n",
       "      <td>1</td>\n",
       "      <td>1</td>\n",
       "      <td>1</td>\n",
       "      <td>1</td>\n",
       "      <td>1</td>\n",
       "      <td>1</td>\n",
       "      <td>1</td>\n",
       "      <td>1</td>\n",
       "      <td>...</td>\n",
       "      <td>1</td>\n",
       "      <td>1</td>\n",
       "      <td>1</td>\n",
       "      <td>1</td>\n",
       "      <td>1</td>\n",
       "      <td>1</td>\n",
       "      <td>1</td>\n",
       "      <td>1</td>\n",
       "      <td>1</td>\n",
       "      <td>1</td>\n",
       "    </tr>\n",
       "    <tr>\n",
       "      <th>unique</th>\n",
       "      <td>1.55565e-07</td>\n",
       "      <td>3.1113e-07</td>\n",
       "      <td>3.1113e-07</td>\n",
       "      <td>1.55565e-07</td>\n",
       "      <td>1.55565e-07</td>\n",
       "      <td>3.1113e-07</td>\n",
       "      <td>3.1113e-07</td>\n",
       "      <td>3.1113e-07</td>\n",
       "      <td>3.1113e-07</td>\n",
       "      <td>3.1113e-07</td>\n",
       "      <td>...</td>\n",
       "      <td>3.1113e-07</td>\n",
       "      <td>3.1113e-07</td>\n",
       "      <td>3.1113e-07</td>\n",
       "      <td>3.1113e-07</td>\n",
       "      <td>3.1113e-07</td>\n",
       "      <td>3.1113e-07</td>\n",
       "      <td>3.1113e-07</td>\n",
       "      <td>3.1113e-07</td>\n",
       "      <td>3.1113e-07</td>\n",
       "      <td>3.1113e-07</td>\n",
       "    </tr>\n",
       "    <tr>\n",
       "      <th>top</th>\n",
       "      <td>0</td>\n",
       "      <td>0</td>\n",
       "      <td>0</td>\n",
       "      <td>0</td>\n",
       "      <td>0</td>\n",
       "      <td>1.55565e-07</td>\n",
       "      <td>1.55565e-07</td>\n",
       "      <td>1.55565e-07</td>\n",
       "      <td>1.55565e-07</td>\n",
       "      <td>1.55565e-07</td>\n",
       "      <td>...</td>\n",
       "      <td>0</td>\n",
       "      <td>0</td>\n",
       "      <td>0</td>\n",
       "      <td>0</td>\n",
       "      <td>0</td>\n",
       "      <td>0</td>\n",
       "      <td>0</td>\n",
       "      <td>0</td>\n",
       "      <td>0</td>\n",
       "      <td>0</td>\n",
       "    </tr>\n",
       "    <tr>\n",
       "      <th>freq</th>\n",
       "      <td>1</td>\n",
       "      <td>0.999999</td>\n",
       "      <td>0.946328</td>\n",
       "      <td>1</td>\n",
       "      <td>1</td>\n",
       "      <td>0.977131</td>\n",
       "      <td>0.977131</td>\n",
       "      <td>0.977131</td>\n",
       "      <td>0.979061</td>\n",
       "      <td>0.979061</td>\n",
       "      <td>...</td>\n",
       "      <td>0.85929</td>\n",
       "      <td>0.85929</td>\n",
       "      <td>0.85929</td>\n",
       "      <td>0.85929</td>\n",
       "      <td>0.85929</td>\n",
       "      <td>0.85929</td>\n",
       "      <td>0.85929</td>\n",
       "      <td>0.85929</td>\n",
       "      <td>0.85929</td>\n",
       "      <td>0.85929</td>\n",
       "    </tr>\n",
       "  </tbody>\n",
       "</table>\n",
       "<p>4 rows × 36 columns</p>\n",
       "</div>"
      ],
      "text/plain": [
       "       environmentId frontPageViewId contentPosition impressionTimestamp  \\\n",
       "count              1               1               1                   1   \n",
       "unique   1.55565e-07      3.1113e-07      3.1113e-07         1.55565e-07   \n",
       "top                0               0               0                   0   \n",
       "freq               1        0.999999        0.946328                   1   \n",
       "\n",
       "          contentId clickedPageViewId clickTimestamp    IsClicked  \\\n",
       "count             1                 1              1            1   \n",
       "unique  1.55565e-07        3.1113e-07     3.1113e-07   3.1113e-07   \n",
       "top               0       1.55565e-07    1.55565e-07  1.55565e-07   \n",
       "freq              1          0.977131       0.977131     0.977131   \n",
       "\n",
       "       contentPageViewId maxSecondsSincePageView     ...     paywall-state  \\\n",
       "count                  1                       1     ...                 1   \n",
       "unique        3.1113e-07              3.1113e-07     ...        3.1113e-07   \n",
       "top          1.55565e-07             1.55565e-07     ...                 0   \n",
       "freq            0.979061                0.979061     ...           0.85929   \n",
       "\n",
       "       paywall-type presentation-url   published   share-url  \\\n",
       "count             1                1           1           1   \n",
       "unique   3.1113e-07       3.1113e-07  3.1113e-07  3.1113e-07   \n",
       "top               0                0           0           0   \n",
       "freq        0.85929          0.85929     0.85929     0.85929   \n",
       "\n",
       "       source-publication source-system      status        tags       title  \n",
       "count                   1             1           1           1           1  \n",
       "unique         3.1113e-07    3.1113e-07  3.1113e-07  3.1113e-07  3.1113e-07  \n",
       "top                     0             0           0           0           0  \n",
       "freq              0.85929       0.85929     0.85929     0.85929     0.85929  \n",
       "\n",
       "[4 rows x 36 columns]"
      ]
     },
     "execution_count": 11,
     "metadata": {},
     "output_type": "execute_result"
    }
   ],
   "source": [
    "(mergedf.isnull()).describe()/6428182"
   ]
  },
  {
   "cell_type": "code",
   "execution_count": 16,
   "metadata": {
    "collapsed": true
   },
   "outputs": [],
   "source": [
    "df=mergedf.dropna(subset=['frontPageViewId'])"
   ]
  },
  {
   "cell_type": "code",
   "execution_count": 17,
   "metadata": {
    "collapsed": true
   },
   "outputs": [],
   "source": [
    "df=df.dropna(subset=['contentPosition'])"
   ]
  },
  {
   "cell_type": "code",
   "execution_count": 18,
   "metadata": {
    "collapsed": true
   },
   "outputs": [],
   "source": [
    "df=df.dropna(subset=['contentId'])"
   ]
  },
  {
   "cell_type": "code",
   "execution_count": 19,
   "metadata": {},
   "outputs": [
    {
     "data": {
      "text/plain": [
       "Index(['environmentId', 'frontPageViewId', 'contentPosition',\n",
       "       'impressionTimestamp', 'contentId', 'clickedPageViewId',\n",
       "       'clickTimestamp', 'IsClicked', 'contentPageViewId',\n",
       "       'maxSecondsSincePageView', 'maxDuration', 'maxScrollPosition',\n",
       "       'contentWordCount', 'body', 'capi-id', 'categories', 'content-type',\n",
       "       'content-type-short', 'created', 'hotness', 'image-url',\n",
       "       'last-modified', 'lead', 'lifetime', 'normalized-hotness',\n",
       "       'normalized-lifetime', 'paywall-state', 'paywall-type',\n",
       "       'presentation-url', 'published', 'share-url', 'source-publication',\n",
       "       'source-system', 'status', 'tags', 'title'],\n",
       "      dtype='object')"
      ]
     },
     "execution_count": 19,
     "metadata": {},
     "output_type": "execute_result"
    }
   ],
   "source": [
    "df.keys()"
   ]
  },
  {
   "cell_type": "code",
   "execution_count": 22,
   "metadata": {
    "collapsed": true
   },
   "outputs": [],
   "source": [
    "df.to_csv('data.csv', sep=',')"
   ]
  },
  {
   "cell_type": "code",
   "execution_count": null,
   "metadata": {
    "collapsed": true
   },
   "outputs": [],
   "source": []
  }
 ],
 "metadata": {
  "kernelspec": {
   "display_name": "Python 3",
   "language": "python",
   "name": "python3"
  },
  "language_info": {
   "codemirror_mode": {
    "name": "ipython",
    "version": 3
   },
   "file_extension": ".py",
   "mimetype": "text/x-python",
   "name": "python",
   "nbconvert_exporter": "python",
   "pygments_lexer": "ipython3",
   "version": "3.6.1"
  }
 },
 "nbformat": 4,
 "nbformat_minor": 2
}
